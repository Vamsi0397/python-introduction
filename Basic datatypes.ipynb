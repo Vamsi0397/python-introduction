{
 "cells": [
  {
   "cell_type": "markdown",
   "id": "9c7bfb5d-3c2a-421d-bf48-d30b43df4393",
   "metadata": {},
   "source": [
    "# Datatypes in python\n",
    "* Python datatypes are the classification or categorization of data items.\n",
    "* It represents the kind of value that tells what operations can be performed on a particular data.\n",
    "* Datatypes are used to define the type of a variable.\n",
    " "
   ]
  },
  {
   "cell_type": "markdown",
   "id": "dad87dd1-033c-47d3-8330-8245e35646e6",
   "metadata": {},
   "source": [
    "# Types of datatypes\n",
    "* There are two types of datatypes\n",
    "* Basic datatypes\n",
    "* Advanced datatypes\n"
   ]
  },
  {
   "cell_type": "markdown",
   "id": "f5ece465-ce73-4244-a645-5b17a854abbe",
   "metadata": {},
   "source": [
    "## Basic datatypes\n",
    "* int\n",
    "* float\n",
    "* complex\n",
    "* boolean"
   ]
  },
  {
   "cell_type": "markdown",
   "id": "18b07c57-1efa-4719-91f9-66df1c39a889",
   "metadata": {},
   "source": [
    "### int \n",
    "* Integers are the numeric values from negative infinity to positive infinity including 0\n",
    "* the numeric values present in the variable is known is as integer type of data type\n"
   ]
  },
  {
   "cell_type": "code",
   "execution_count": 14,
   "id": "01d3906e-f173-47cc-8454-e77d998e5dae",
   "metadata": {},
   "outputs": [
    {
     "name": "stdout",
     "output_type": "stream",
     "text": [
      "5\n"
     ]
    },
    {
     "data": {
      "text/plain": [
       "int"
      ]
     },
     "execution_count": 14,
     "metadata": {},
     "output_type": "execute_result"
    }
   ],
   "source": [
    "a = 5\n",
    "print(a)\n",
    "type(a)"
   ]
  },
  {
   "cell_type": "markdown",
   "id": "ee630e46-128c-4e40-8332-8d14aaa0e0dc",
   "metadata": {},
   "source": [
    "here 5 is the numeric value by using print() function we print the value\n",
    "and the type() function returns the type of datatype passed to the variable\n"
   ]
  },
  {
   "cell_type": "code",
   "execution_count": 23,
   "id": "73227731-8d54-4bad-847a-8fa76500a3a3",
   "metadata": {},
   "outputs": [
    {
     "name": "stdout",
     "output_type": "stream",
     "text": [
      "112\n"
     ]
    }
   ],
   "source": [
    "class_12th = 112\n",
    "print(class_12th)\n"
   ]
  },
  {
   "cell_type": "code",
   "execution_count": 28,
   "id": "2dc669ab-fbc8-42f7-8164-64b76de3c8a7",
   "metadata": {},
   "outputs": [
    {
     "name": "stdout",
     "output_type": "stream",
     "text": [
      "-3\n"
     ]
    }
   ],
   "source": [
    "rahul = -3\n",
    "print(rahul)"
   ]
  },
  {
   "cell_type": "code",
   "execution_count": 32,
   "id": "9b71ec16-0d30-43b0-a080-1f0385170848",
   "metadata": {},
   "outputs": [
    {
     "name": "stdout",
     "output_type": "stream",
     "text": [
      "0\n"
     ]
    }
   ],
   "source": [
    "k = 0\n",
    "print(k)"
   ]
  },
  {
   "cell_type": "code",
   "execution_count": 34,
   "id": "7d5701af-7f9c-4aa2-8ed2-c57e8f572a5d",
   "metadata": {},
   "outputs": [
    {
     "name": "stdout",
     "output_type": "stream",
     "text": [
      "1\n"
     ]
    }
   ],
   "source": [
    "rank = 1\n",
    "print(rank)"
   ]
  },
  {
   "cell_type": "code",
   "execution_count": 36,
   "id": "b52d1804-6110-4dca-a6f6-95a58a968155",
   "metadata": {},
   "outputs": [
    {
     "name": "stdout",
     "output_type": "stream",
     "text": [
      "2\n"
     ]
    }
   ],
   "source": [
    "ravi_rank = 2\n",
    "print(ravi_rank)"
   ]
  },
  {
   "cell_type": "code",
   "execution_count": 38,
   "id": "ba73a4ad-cfdc-4dc6-8238-209b39741296",
   "metadata": {},
   "outputs": [
    {
     "name": "stdout",
     "output_type": "stream",
     "text": [
      "100\n"
     ]
    }
   ],
   "source": [
    "data = 100\n",
    "print(data)"
   ]
  },
  {
   "cell_type": "code",
   "execution_count": 40,
   "id": "d2c377a2-9b24-4b77-9821-120eef2a760b",
   "metadata": {},
   "outputs": [
    {
     "name": "stdout",
     "output_type": "stream",
     "text": [
      "10\n"
     ]
    }
   ],
   "source": [
    "time = 10\n",
    "print(time)"
   ]
  },
  {
   "cell_type": "code",
   "execution_count": 42,
   "id": "62f51963-921c-4216-ae48-de995f90fb3d",
   "metadata": {},
   "outputs": [
    {
     "name": "stdout",
     "output_type": "stream",
     "text": [
      "-5000\n"
     ]
    }
   ],
   "source": [
    "borrow = -5000\n",
    "print(borrow)"
   ]
  },
  {
   "cell_type": "code",
   "execution_count": 44,
   "id": "b015feaf-f91f-48b7-8fe4-8feea6e33c91",
   "metadata": {},
   "outputs": [
    {
     "name": "stdout",
     "output_type": "stream",
     "text": [
      "0\n"
     ]
    }
   ],
   "source": [
    "emotions = 0\n",
    "print(emotions)"
   ]
  },
  {
   "cell_type": "markdown",
   "id": "2e565df4-2c3b-42d7-9ce6-88d079e81620",
   "metadata": {},
   "source": [
    "### float \n",
    "* Float type datatypes are the decimal values positive or negative with a decimal point\n",
    "* when more precision is needed we use float datatype"
   ]
  },
  {
   "cell_type": "code",
   "execution_count": 47,
   "id": "44d8b394-3c33-4401-b470-6ff0a177d040",
   "metadata": {},
   "outputs": [
    {
     "name": "stdout",
     "output_type": "stream",
     "text": [
      "2.845\n"
     ]
    },
    {
     "data": {
      "text/plain": [
       "float"
      ]
     },
     "execution_count": 47,
     "metadata": {},
     "output_type": "execute_result"
    }
   ],
   "source": [
    "b = 2.845\n",
    "print(b)\n",
    "type(b)"
   ]
  },
  {
   "cell_type": "code",
   "execution_count": 49,
   "id": "ee8c1360-a8d9-46bf-bed6-4bd982249958",
   "metadata": {},
   "outputs": [
    {
     "name": "stdout",
     "output_type": "stream",
     "text": [
      "4.274\n"
     ]
    }
   ],
   "source": [
    "j = 4.274\n",
    "print(j)"
   ]
  },
  {
   "cell_type": "code",
   "execution_count": 51,
   "id": "4f5e3b85-9d32-4398-af06-9d4d5482a561",
   "metadata": {},
   "outputs": [
    {
     "name": "stdout",
     "output_type": "stream",
     "text": [
      "5\n"
     ]
    }
   ],
   "source": [
    "tomato_quantity = 5\n",
    "print(tomato_quantity)"
   ]
  },
  {
   "cell_type": "code",
   "execution_count": 53,
   "id": "12997007-090b-4f93-adb2-346f8e311bc9",
   "metadata": {},
   "outputs": [
    {
     "name": "stdout",
     "output_type": "stream",
     "text": [
      "-7.42\n"
     ]
    }
   ],
   "source": [
    "s = -7.42\n",
    "print(s)"
   ]
  },
  {
   "cell_type": "code",
   "execution_count": 55,
   "id": "d8b59f24-c3b0-4bc0-b6db-1fa92ab2b57b",
   "metadata": {},
   "outputs": [
    {
     "name": "stdout",
     "output_type": "stream",
     "text": [
      "0.52\n"
     ]
    }
   ],
   "source": [
    "thickness = 0.52\n",
    "print(thickness)"
   ]
  },
  {
   "cell_type": "code",
   "execution_count": 57,
   "id": "99979f41-2ec2-4b27-8afc-38ff3d2be96f",
   "metadata": {},
   "outputs": [
    {
     "name": "stdout",
     "output_type": "stream",
     "text": [
      "2.4\n"
     ]
    }
   ],
   "source": [
    "length = 2.4\n",
    "print(length)"
   ]
  },
  {
   "cell_type": "code",
   "execution_count": 59,
   "id": "113affb1-3dc1-422b-abdd-08a83610d220",
   "metadata": {},
   "outputs": [
    {
     "name": "stdout",
     "output_type": "stream",
     "text": [
      "8.91\n"
     ]
    }
   ],
   "source": [
    "depth = 8.91\n",
    "print(depth)"
   ]
  },
  {
   "cell_type": "code",
   "execution_count": 61,
   "id": "65b15b34-b503-479c-b50c-b58a017ff3c6",
   "metadata": {},
   "outputs": [
    {
     "name": "stdout",
     "output_type": "stream",
     "text": [
      "65.53\n"
     ]
    }
   ],
   "source": [
    "speed = 65.53\n",
    "print(speed)"
   ]
  },
  {
   "cell_type": "code",
   "execution_count": 63,
   "id": "672175bd-84e1-47a8-8b66-c6c18bfac6d8",
   "metadata": {},
   "outputs": [
    {
     "name": "stdout",
     "output_type": "stream",
     "text": [
      "8.88\n"
     ]
    }
   ],
   "source": [
    "avg = 8.88\n",
    "print(avg)"
   ]
  },
  {
   "cell_type": "code",
   "execution_count": 65,
   "id": "35a2e4ec-0c53-47dd-8143-31480474f4a3",
   "metadata": {},
   "outputs": [
    {
     "name": "stdout",
     "output_type": "stream",
     "text": [
      "77.354\n"
     ]
    }
   ],
   "source": [
    "x = 77.354\n",
    "print(x)\n"
   ]
  },
  {
   "cell_type": "markdown",
   "id": "d81a46a3-5684-4b35-ae30-2fd4de8fc191",
   "metadata": {},
   "source": [
    "### complex\n",
    "* The complex datatype in python consists of two parts one is real part and other one is imaginary part\n",
    "* Combination of real number and imaginary number is called complex number"
   ]
  },
  {
   "cell_type": "code",
   "execution_count": 76,
   "id": "065ab436-3cf2-4564-b4b6-a8a067b29350",
   "metadata": {},
   "outputs": [
    {
     "name": "stdout",
     "output_type": "stream",
     "text": [
      "(3+2j)\n"
     ]
    },
    {
     "data": {
      "text/plain": [
       "complex"
      ]
     },
     "execution_count": 76,
     "metadata": {},
     "output_type": "execute_result"
    }
   ],
   "source": [
    "y = 3+2j\n",
    "print(y)\n",
    "type(y)"
   ]
  },
  {
   "cell_type": "code",
   "execution_count": 88,
   "id": "92311988-dbf0-4190-80bb-112b05e8ca16",
   "metadata": {},
   "outputs": [
    {
     "name": "stdout",
     "output_type": "stream",
     "text": [
      "10j\n"
     ]
    },
    {
     "data": {
      "text/plain": [
       "complex"
      ]
     },
     "execution_count": 88,
     "metadata": {},
     "output_type": "execute_result"
    }
   ],
   "source": [
    "h = 3j+7j\n",
    "print(h)\n",
    "type(h)"
   ]
  },
  {
   "cell_type": "code",
   "execution_count": 98,
   "id": "c0d36f74-5660-404a-a864-386f5c2070df",
   "metadata": {},
   "outputs": [
    {
     "name": "stdout",
     "output_type": "stream",
     "text": [
      "(9+2j)\n"
     ]
    }
   ],
   "source": [
    "fraction = 2j+9\n",
    "print(fraction)"
   ]
  },
  {
   "cell_type": "code",
   "execution_count": 106,
   "id": "d2585c74-6602-4b9b-84ff-943319087d93",
   "metadata": {},
   "outputs": [
    {
     "name": "stdout",
     "output_type": "stream",
     "text": [
      "(7+0j)\n"
     ]
    }
   ],
   "source": [
    "_ab = 7+0j\n",
    "print(_ab)"
   ]
  },
  {
   "cell_type": "code",
   "execution_count": 110,
   "id": "0e05c1c3-15a6-41c0-88b4-713de215ee4f",
   "metadata": {},
   "outputs": [
    {
     "name": "stdout",
     "output_type": "stream",
     "text": [
      "(12+7j)\n"
     ]
    }
   ],
   "source": [
    "ravi = 7+7j+5\n",
    "print(ravi)"
   ]
  },
  {
   "cell_type": "code",
   "execution_count": 112,
   "id": "f929e629-c57a-4598-87c0-52c847053b75",
   "metadata": {},
   "outputs": [
    {
     "name": "stdout",
     "output_type": "stream",
     "text": [
      "(2+5j)\n"
     ]
    }
   ],
   "source": [
    "web = 2+3j+2j\n",
    "print(web)"
   ]
  },
  {
   "cell_type": "code",
   "execution_count": 116,
   "id": "b18e9921-a4cd-4c3f-af4e-1d87f2b3b727",
   "metadata": {},
   "outputs": [
    {
     "name": "stdout",
     "output_type": "stream",
     "text": [
      "(5+2.53j)\n"
     ]
    }
   ],
   "source": [
    "q = 2.53j+5\n",
    "print(q)"
   ]
  },
  {
   "cell_type": "code",
   "execution_count": 118,
   "id": "ce1d866d-4b9e-4589-aa97-486f2dabaeb9",
   "metadata": {},
   "outputs": [
    {
     "name": "stdout",
     "output_type": "stream",
     "text": [
      "(55.52+8.5j)\n"
     ]
    }
   ],
   "source": [
    "data = 55.52+8.5j\n",
    "print(data)"
   ]
  },
  {
   "cell_type": "code",
   "execution_count": 120,
   "id": "89de50c3-d598-4289-a5c9-6e533abe9a0b",
   "metadata": {},
   "outputs": [
    {
     "name": "stdout",
     "output_type": "stream",
     "text": [
      "(-2.55+8.78j)\n"
     ]
    }
   ],
   "source": [
    "a = -2.55+8.78j\n",
    "print(a)"
   ]
  },
  {
   "cell_type": "code",
   "execution_count": 124,
   "id": "aa5e8fdf-9790-435f-8e76-92fbee7d7182",
   "metadata": {},
   "outputs": [
    {
     "name": "stdout",
     "output_type": "stream",
     "text": [
      "(-4.95-8.4j)\n"
     ]
    }
   ],
   "source": [
    "f = -8.4j-6.95+2\n",
    "print(f)"
   ]
  },
  {
   "cell_type": "markdown",
   "id": "7ceea2bf-135a-44ae-baec-23a4e6e3f9dd",
   "metadata": {},
   "source": [
    "### boolean \n",
    "* Booleans represent two values true or false\n",
    "* represnts values 1 for true and 0 for false"
   ]
  },
  {
   "cell_type": "code",
   "execution_count": 144,
   "id": "ac40df4b-0790-49f0-bb96-bb259cc6c3ad",
   "metadata": {},
   "outputs": [
    {
     "name": "stdout",
     "output_type": "stream",
     "text": [
      "True\n"
     ]
    },
    {
     "data": {
      "text/plain": [
       "bool"
      ]
     },
     "execution_count": 144,
     "metadata": {},
     "output_type": "execute_result"
    }
   ],
   "source": [
    "print(10>2)\n",
    "type(10>2)"
   ]
  },
  {
   "cell_type": "code",
   "execution_count": 130,
   "id": "78136e74-6460-4a14-9b69-9d0bb1ef5bbc",
   "metadata": {},
   "outputs": [
    {
     "name": "stdout",
     "output_type": "stream",
     "text": [
      "True\n"
     ]
    }
   ],
   "source": [
    "print(3<4)"
   ]
  },
  {
   "cell_type": "code",
   "execution_count": 136,
   "id": "dbc7028c-a5ad-432c-bfe6-2a7b47f8406b",
   "metadata": {},
   "outputs": [
    {
     "name": "stdout",
     "output_type": "stream",
     "text": [
      "False\n"
     ]
    }
   ],
   "source": [
    "print(84<25)"
   ]
  },
  {
   "cell_type": "code",
   "execution_count": 138,
   "id": "a4e7f972-cc7b-45af-9966-c3cb6efcd363",
   "metadata": {},
   "outputs": [
    {
     "name": "stdout",
     "output_type": "stream",
     "text": [
      "False\n"
     ]
    }
   ],
   "source": [
    "print(2>3<1)"
   ]
  },
  {
   "cell_type": "code",
   "execution_count": 148,
   "id": "ea4b8488-b570-4b44-8fef-0402c50850a4",
   "metadata": {},
   "outputs": [
    {
     "name": "stdout",
     "output_type": "stream",
     "text": [
      "False\n"
     ]
    }
   ],
   "source": [
    "print(bool(12<1))"
   ]
  },
  {
   "cell_type": "code",
   "execution_count": 150,
   "id": "66576711-bb78-482a-a8db-14b46f88216f",
   "metadata": {},
   "outputs": [
    {
     "name": "stdout",
     "output_type": "stream",
     "text": [
      "False\n"
     ]
    }
   ],
   "source": [
    "x=0\n",
    "print(bool(x))"
   ]
  },
  {
   "cell_type": "code",
   "execution_count": 152,
   "id": "cdb07ff7-a2bd-467b-8622-4b2777982663",
   "metadata": {},
   "outputs": [
    {
     "name": "stdout",
     "output_type": "stream",
     "text": [
      "True\n"
     ]
    }
   ],
   "source": [
    "y=23\n",
    "print(bool(y))"
   ]
  },
  {
   "cell_type": "code",
   "execution_count": 156,
   "id": "65ccc07e-5eaf-4ef4-9c8f-6a79f80f291f",
   "metadata": {},
   "outputs": [
    {
     "name": "stdout",
     "output_type": "stream",
     "text": [
      "True\n"
     ]
    }
   ],
   "source": [
    "a = 'ramesh'\n",
    "print(bool(a))\n"
   ]
  },
  {
   "cell_type": "code",
   "execution_count": 160,
   "id": "86281e97-1c0f-4031-8b39-4553f0844b8e",
   "metadata": {},
   "outputs": [
    {
     "name": "stdout",
     "output_type": "stream",
     "text": [
      "False\n"
     ]
    }
   ],
   "source": [
    "k=''\n",
    "print(bool(k))"
   ]
  },
  {
   "cell_type": "code",
   "execution_count": 162,
   "id": "42ee0297-cc9d-4bc1-822b-4b24654b4536",
   "metadata": {},
   "outputs": [
    {
     "name": "stdout",
     "output_type": "stream",
     "text": [
      "True\n"
     ]
    }
   ],
   "source": [
    "_name_1 = 'false'\n",
    "print(bool(_name_1))"
   ]
  },
  {
   "cell_type": "markdown",
   "id": "8ac84645-5cd1-45dd-a8b3-9a9b295205c5",
   "metadata": {},
   "source": [
    "## credits\n",
    "* Name : Vamsi\n",
    "* Number : 8978702237"
   ]
  },
  {
   "cell_type": "code",
   "execution_count": null,
   "id": "6fc3d757-19e0-4a85-a8a6-fa258bae79a8",
   "metadata": {},
   "outputs": [],
   "source": []
  }
 ],
 "metadata": {
  "kernelspec": {
   "display_name": "Python 3 (ipykernel)",
   "language": "python",
   "name": "python3"
  },
  "language_info": {
   "codemirror_mode": {
    "name": "ipython",
    "version": 3
   },
   "file_extension": ".py",
   "mimetype": "text/x-python",
   "name": "python",
   "nbconvert_exporter": "python",
   "pygments_lexer": "ipython3",
   "version": "3.12.4"
  }
 },
 "nbformat": 4,
 "nbformat_minor": 5
}
