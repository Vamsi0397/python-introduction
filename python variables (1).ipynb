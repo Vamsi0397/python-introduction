{
 "cells": [
  {
   "cell_type": "markdown",
   "id": "aac6b2d8-2de4-4578-83da-b2e8d3c92bb4",
   "metadata": {},
   "source": [
    "# Variables in python\n",
    "* Python variables are simply containers for storing data values\n",
    "* Python has no commands for declaring a varible\n",
    "* A variable is a placeholder for information you want pyhton to recall later in the coding process when you need to complete an action\n",
    "* Technically the variable acts as an address for where the data is stored in memory\n",
    "* A variable in a python program gives data to the computer for processing\n",
    "* Python variables are the reserved memory locations used to store values with in a python program"
   ]
  },
  {
   "cell_type": "code",
   "execution_count": 7,
   "id": "2c2511bf-0d1f-44c6-87fe-a982533f6e0f",
   "metadata": {},
   "outputs": [
    {
     "name": "stdout",
     "output_type": "stream",
     "text": [
      "100\n"
     ]
    }
   ],
   "source": [
    "# How to create a variable\n",
    "a = 100\n",
    "print(a)"
   ]
  },
  {
   "cell_type": "markdown",
   "id": "024a0375-c92a-4260-b116-387c96944f89",
   "metadata": {},
   "source": [
    "Here 'a'is variable and we assign a value '100' to 'a'"
   ]
  },
  {
   "cell_type": "markdown",
   "id": "6ac6b7ec-6a53-4218-9f3f-e212bd816c4e",
   "metadata": {},
   "source": [
    "In some other programming languages we need to declare the variables to assign a data, but in python it dosen't require any declaration of variables before they are used.\n",
    "\n",
    "Python variables do not need explicit declaration to reserve memory space or you can say to create a variable.\n",
    "A python variable is created automatically when you assign a value to it. the equal sign(=) is used to assign values to variables.\n",
    "Once we create a python variable and assign a value to it, we can print it using print() function."
   ]
  },
  {
   "cell_type": "markdown",
   "id": "e8b5488e-cbb2-4195-ab52-de68021c5389",
   "metadata": {},
   "source": [
    "# Rules to create a variables\n",
    "* A variable name cannot start with a number or any special character except underscore '_' .\n",
    "* A variable name must start with a letter or the underscore character\n",
    "* A variable name can only contain alpha-numeric characters and underscores(A-Z,0-9,_)\n",
    "* A variable name cannot be any of the python keywords\n",
    "* Python variable names are case-sensitive(age,Age,AGE are three different variables) "
   ]
  },
  {
   "cell_type": "markdown",
   "id": "088caf50-f2e4-4b37-bc84-1687af71d007",
   "metadata": {},
   "source": [
    "# Types of variables\n",
    "* Valid variables\n",
    "* Invalid variables\n",
    "## Valid variables\n",
    "* Valid variables which gives an proper output and which compile the data\n",
    "## Invalid variables\n",
    "* Invalid variables are which compiler not compile the data and gives an error"
   ]
  },
  {
   "cell_type": "code",
   "execution_count": 52,
   "id": "e1e99cce-ba46-4be4-b550-7ebeb5e2c20c",
   "metadata": {},
   "outputs": [
    {
     "name": "stdout",
     "output_type": "stream",
     "text": [
      "50\n",
      "22\n",
      "88\n",
      "46\n",
      "mahesh\n",
      "suresh\n",
      "sita\n",
      "geetha\n",
      "india\n",
      "america\n",
      "japan\n",
      "china\n",
      "rama\n",
      "nanna\n",
      "pitha\n",
      "father\n",
      "Name : my self iam vamsi\n",
      "Phone number : 8978702237\n",
      "Email : vamsinallabothu123@gmail.com\n",
      "Insta id : @vamsi_039\n"
     ]
    }
   ],
   "source": [
    "#Examples for valid variables\n",
    "a = 50\n",
    "print(a)\n",
    "b = 22\n",
    "print (b)\n",
    "_c = 88\n",
    "print(_c)\n",
    "d_22 = 46\n",
    "print(d_22)\n",
    "a1 = 'mahesh'\n",
    "print(a1)\n",
    "a2 = 'suresh'\n",
    "print(a2)\n",
    "b1 = 'sita'\n",
    "print(b1)\n",
    "b2 = 'geetha'\n",
    "print(b2)\n",
    "a_1 = 'india'\n",
    "print(a_1)\n",
    "_b1 = 'america'\n",
    "print(_b1)\n",
    "_c1_ = 'japan'\n",
    "print(_c1_)\n",
    "_d_4_ = 'china'\n",
    "print(_d_4_)\n",
    "_name_1 = 'rama'\n",
    "print(_name_1)\n",
    "telugu = 'nanna'\n",
    "print(telugu)\n",
    "hindi = 'pitha'\n",
    "print(hindi)\n",
    "english = 'father'\n",
    "print(english)\n",
    "personaldetails = 'Name : my self iam vamsi'\n",
    "print(personaldetails)\n",
    "phonenumber = 'Phone number : 8978702237'\n",
    "print(phonenumber)\n",
    "email = 'Email : vamsinallabothu123@gmail.com'\n",
    "print(email)\n",
    "_instaid_ = 'Insta id : @vamsi_039'\n",
    "print(_instaid_)"
   ]
  },
  {
   "cell_type": "code",
   "execution_count": 57,
   "id": "8ceb04c6-7e3b-4a70-b866-23475813bde0",
   "metadata": {},
   "outputs": [
    {
     "ename": "SyntaxError",
     "evalue": "invalid decimal literal (3170896778.py, line 2)",
     "output_type": "error",
     "traceback": [
      "\u001b[1;36m  Cell \u001b[1;32mIn[57], line 2\u001b[1;36m\u001b[0m\n\u001b[1;33m    1a = '35'\u001b[0m\n\u001b[1;37m    ^\u001b[0m\n\u001b[1;31mSyntaxError\u001b[0m\u001b[1;31m:\u001b[0m invalid decimal literal\n"
     ]
    }
   ],
   "source": [
    "#Examples for invalid variables\n",
    "1a = '35'\n",
    "print(1a)"
   ]
  },
  {
   "cell_type": "code",
   "execution_count": 69,
   "id": "2e53d60c-cf4a-4b97-85cc-cc9e37e21daf",
   "metadata": {},
   "outputs": [
    {
     "ename": "SyntaxError",
     "evalue": "invalid syntax. Maybe you meant '==' or ':=' instead of '='? (3579424462.py, line 1)",
     "output_type": "error",
     "traceback": [
      "\u001b[1;36m  Cell \u001b[1;32mIn[69], line 1\u001b[1;36m\u001b[0m\n\u001b[1;33m    @ap = 'amaravathi'\u001b[0m\n\u001b[1;37m     ^\u001b[0m\n\u001b[1;31mSyntaxError\u001b[0m\u001b[1;31m:\u001b[0m invalid syntax. Maybe you meant '==' or ':=' instead of '='?\n"
     ]
    }
   ],
   "source": [
    "@ap = 'amaravathi'\n",
    "print(@ap)"
   ]
  },
  {
   "cell_type": "code",
   "execution_count": 63,
   "id": "6ed11e35-1562-4e76-b493-36fc2b7af203",
   "metadata": {},
   "outputs": [
    {
     "ename": "SyntaxError",
     "evalue": "invalid syntax (3024988598.py, line 1)",
     "output_type": "error",
     "traceback": [
      "\u001b[1;36m  Cell \u001b[1;32mIn[63], line 1\u001b[1;36m\u001b[0m\n\u001b[1;33m    if = 'london'\u001b[0m\n\u001b[1;37m       ^\u001b[0m\n\u001b[1;31mSyntaxError\u001b[0m\u001b[1;31m:\u001b[0m invalid syntax\n"
     ]
    }
   ],
   "source": [
    "if = 'london'\n",
    "print(if)"
   ]
  },
  {
   "cell_type": "code",
   "execution_count": 73,
   "id": "a095c6cd-e00b-427c-8e12-d3e6da38641a",
   "metadata": {},
   "outputs": [
    {
     "ename": "SyntaxError",
     "evalue": "cannot assign to expression here. Maybe you meant '==' instead of '='? (163832783.py, line 1)",
     "output_type": "error",
     "traceback": [
      "\u001b[1;36m  Cell \u001b[1;32mIn[73], line 1\u001b[1;36m\u001b[0m\n\u001b[1;33m    a+j = '22'\u001b[0m\n\u001b[1;37m    ^\u001b[0m\n\u001b[1;31mSyntaxError\u001b[0m\u001b[1;31m:\u001b[0m cannot assign to expression here. Maybe you meant '==' instead of '='?\n"
     ]
    }
   ],
   "source": [
    "a+j = '22'\n",
    "print(a+j)"
   ]
  },
  {
   "cell_type": "code",
   "execution_count": 75,
   "id": "c0031299-c426-4c38-ae92-ae65e0618038",
   "metadata": {},
   "outputs": [
    {
     "ename": "SyntaxError",
     "evalue": "cannot assign to expression here. Maybe you meant '==' instead of '='? (2073268534.py, line 1)",
     "output_type": "error",
     "traceback": [
      "\u001b[1;36m  Cell \u001b[1;32mIn[75], line 1\u001b[1;36m\u001b[0m\n\u001b[1;33m    a&b = 'banana'\u001b[0m\n\u001b[1;37m    ^\u001b[0m\n\u001b[1;31mSyntaxError\u001b[0m\u001b[1;31m:\u001b[0m cannot assign to expression here. Maybe you meant '==' instead of '='?\n"
     ]
    }
   ],
   "source": [
    "a&b = 'banana'\n",
    "print(a&b)"
   ]
  },
  {
   "cell_type": "code",
   "execution_count": 77,
   "id": "532ff2be-1955-40fc-a0c7-53b7c5777725",
   "metadata": {},
   "outputs": [
    {
     "ename": "SyntaxError",
     "evalue": "cannot assign to literal here. Maybe you meant '==' instead of '='? (3932254540.py, line 1)",
     "output_type": "error",
     "traceback": [
      "\u001b[1;36m  Cell \u001b[1;32mIn[77], line 1\u001b[1;36m\u001b[0m\n\u001b[1;33m    420 = 'harish'\u001b[0m\n\u001b[1;37m    ^\u001b[0m\n\u001b[1;31mSyntaxError\u001b[0m\u001b[1;31m:\u001b[0m cannot assign to literal here. Maybe you meant '==' instead of '='?\n"
     ]
    }
   ],
   "source": [
    "420 = 'harish'\n",
    "print(420)"
   ]
  },
  {
   "cell_type": "code",
   "execution_count": 79,
   "id": "67ee06fa-815d-4638-bb15-0b92554ecbfe",
   "metadata": {},
   "outputs": [
    {
     "ename": "SyntaxError",
     "evalue": "cannot assign to expression here. Maybe you meant '==' instead of '='? (2757434744.py, line 1)",
     "output_type": "error",
     "traceback": [
      "\u001b[1;36m  Cell \u001b[1;32mIn[79], line 1\u001b[1;36m\u001b[0m\n\u001b[1;33m    4*2 = '8'\u001b[0m\n\u001b[1;37m    ^\u001b[0m\n\u001b[1;31mSyntaxError\u001b[0m\u001b[1;31m:\u001b[0m cannot assign to expression here. Maybe you meant '==' instead of '='?\n"
     ]
    }
   ],
   "source": [
    "4*2 = '8'\n",
    "print(4*2)"
   ]
  },
  {
   "cell_type": "code",
   "execution_count": 81,
   "id": "de6cbe36-9f01-44ac-97cf-c14878d7f271",
   "metadata": {},
   "outputs": [
    {
     "ename": "SyntaxError",
     "evalue": "invalid syntax. Maybe you meant '==' or ':=' instead of '='? (816454803.py, line 1)",
     "output_type": "error",
     "traceback": [
      "\u001b[1;36m  Cell \u001b[1;32mIn[81], line 1\u001b[1;36m\u001b[0m\n\u001b[1;33m    @python = 'programming language'\u001b[0m\n\u001b[1;37m     ^\u001b[0m\n\u001b[1;31mSyntaxError\u001b[0m\u001b[1;31m:\u001b[0m invalid syntax. Maybe you meant '==' or ':=' instead of '='?\n"
     ]
    }
   ],
   "source": [
    "@python = 'programming language'\n",
    "print(@python)"
   ]
  },
  {
   "cell_type": "code",
   "execution_count": 83,
   "id": "c60462db-bfe6-467d-abe5-c4ef3ba71343",
   "metadata": {},
   "outputs": [
    {
     "ename": "SyntaxError",
     "evalue": "invalid decimal literal (2027767051.py, line 1)",
     "output_type": "error",
     "traceback": [
      "\u001b[1;36m  Cell \u001b[1;32mIn[83], line 1\u001b[1;36m\u001b[0m\n\u001b[1;33m    22apples = 'useless'\u001b[0m\n\u001b[1;37m     ^\u001b[0m\n\u001b[1;31mSyntaxError\u001b[0m\u001b[1;31m:\u001b[0m invalid decimal literal\n"
     ]
    }
   ],
   "source": [
    "22apples = 'useless'\n",
    "4apples = 'useful'\n",
    "print(22apples)\n",
    "print(4apples)"
   ]
  },
  {
   "cell_type": "code",
   "execution_count": 85,
   "id": "7a31dbff-1df0-4bdc-9f4e-fa3f14d8d6fd",
   "metadata": {},
   "outputs": [
    {
     "ename": "SyntaxError",
     "evalue": "cannot assign to expression here. Maybe you meant '==' instead of '='? (2040419134.py, line 1)",
     "output_type": "error",
     "traceback": [
      "\u001b[1;36m  Cell \u001b[1;32mIn[85], line 1\u001b[1;36m\u001b[0m\n\u001b[1;33m    20% variables = 'not variables'\u001b[0m\n\u001b[1;37m    ^\u001b[0m\n\u001b[1;31mSyntaxError\u001b[0m\u001b[1;31m:\u001b[0m cannot assign to expression here. Maybe you meant '==' instead of '='?\n"
     ]
    }
   ],
   "source": [
    "20% variables = 'not variables'\n",
    "print(20%)"
   ]
  },
  {
   "cell_type": "code",
   "execution_count": 91,
   "id": "428ab554-afdc-4ccd-a62d-4dd1ed78c0b2",
   "metadata": {},
   "outputs": [
    {
     "ename": "SyntaxError",
     "evalue": "closing parenthesis '}' does not match opening parenthesis '(' (2632070710.py, line 2)",
     "output_type": "error",
     "traceback": [
      "\u001b[1;36m  Cell \u001b[1;32mIn[91], line 2\u001b[1;36m\u001b[0m\n\u001b[1;33m    print(if})\u001b[0m\n\u001b[1;37m            ^\u001b[0m\n\u001b[1;31mSyntaxError\u001b[0m\u001b[1;31m:\u001b[0m closing parenthesis '}' does not match opening parenthesis '('\n"
     ]
    }
   ],
   "source": [
    "if = 'constants are not variables'\n",
    "print(if})"
   ]
  },
  {
   "cell_type": "code",
   "execution_count": 93,
   "id": "68db49ed-8700-40b1-9db1-396f95745137",
   "metadata": {},
   "outputs": [
    {
     "ename": "SyntaxError",
     "evalue": "cannot assign to expression here. Maybe you meant '==' instead of '='? (3687944986.py, line 1)",
     "output_type": "error",
     "traceback": [
      "\u001b[1;36m  Cell \u001b[1;32mIn[93], line 1\u001b[1;36m\u001b[0m\n\u001b[1;33m    egg + chicken = 'non veg'\u001b[0m\n\u001b[1;37m    ^\u001b[0m\n\u001b[1;31mSyntaxError\u001b[0m\u001b[1;31m:\u001b[0m cannot assign to expression here. Maybe you meant '==' instead of '='?\n"
     ]
    }
   ],
   "source": [
    "egg + chicken = 'non veg'\n",
    "print(egg + chicken)"
   ]
  },
  {
   "cell_type": "code",
   "execution_count": 113,
   "id": "d93f432d-d701-443f-b6af-19b58ed2b5db",
   "metadata": {},
   "outputs": [
    {
     "ename": "SyntaxError",
     "evalue": "invalid decimal literal (3171678723.py, line 1)",
     "output_type": "error",
     "traceback": [
      "\u001b[1;36m  Cell \u001b[1;32mIn[113], line 1\u001b[1;36m\u001b[0m\n\u001b[1;33m    1vegetables,2rice = 'veg'\u001b[0m\n\u001b[1;37m    ^\u001b[0m\n\u001b[1;31mSyntaxError\u001b[0m\u001b[1;31m:\u001b[0m invalid decimal literal\n"
     ]
    }
   ],
   "source": [
    "1vegetables,2rice = 'veg'\n",
    "print(vegetables,rice)"
   ]
  },
  {
   "cell_type": "code",
   "execution_count": 97,
   "id": "7813732a-ac61-4c6b-aee8-efae93779c0a",
   "metadata": {},
   "outputs": [
    {
     "ename": "SyntaxError",
     "evalue": "invalid syntax (790502361.py, line 1)",
     "output_type": "error",
     "traceback": [
      "\u001b[1;36m  Cell \u001b[1;32mIn[97], line 1\u001b[1;36m\u001b[0m\n\u001b[1;33m    1+ is also called as = 'oneplus'\u001b[0m\n\u001b[1;37m       ^\u001b[0m\n\u001b[1;31mSyntaxError\u001b[0m\u001b[1;31m:\u001b[0m invalid syntax\n"
     ]
    }
   ],
   "source": [
    "1+ is also called as = 'oneplus'\n",
    "print(1 + is also called as)"
   ]
  },
  {
   "cell_type": "code",
   "execution_count": 99,
   "id": "3ff2b261-e303-4eeb-a19a-2551b07f6909",
   "metadata": {},
   "outputs": [
    {
     "ename": "SyntaxError",
     "evalue": "invalid syntax (3355430292.py, line 1)",
     "output_type": "error",
     "traceback": [
      "\u001b[1;36m  Cell \u001b[1;32mIn[99], line 1\u001b[1;36m\u001b[0m\n\u001b[1;33m    page++ = 'next page'\u001b[0m\n\u001b[1;37m           ^\u001b[0m\n\u001b[1;31mSyntaxError\u001b[0m\u001b[1;31m:\u001b[0m invalid syntax\n"
     ]
    }
   ],
   "source": [
    "page++ = 'next page'\n",
    "print(page++)"
   ]
  },
  {
   "cell_type": "code",
   "execution_count": 101,
   "id": "5466cdd5-fe3f-48a3-a194-ee477e0d00ca",
   "metadata": {},
   "outputs": [
    {
     "ename": "SyntaxError",
     "evalue": "invalid decimal literal (2859009328.py, line 1)",
     "output_type": "error",
     "traceback": [
      "\u001b[1;36m  Cell \u001b[1;32mIn[101], line 1\u001b[1;36m\u001b[0m\n\u001b[1;33m    12thclass = 'rahul'\u001b[0m\n\u001b[1;37m     ^\u001b[0m\n\u001b[1;31mSyntaxError\u001b[0m\u001b[1;31m:\u001b[0m invalid decimal literal\n"
     ]
    }
   ],
   "source": [
    "12thclass = 'rahul'\n",
    "print(12thclass)"
   ]
  },
  {
   "cell_type": "code",
   "execution_count": 103,
   "id": "0dd34d65-db8d-4438-a674-4d1bc7452f64",
   "metadata": {},
   "outputs": [
    {
     "ename": "SyntaxError",
     "evalue": "invalid decimal literal (956677089.py, line 1)",
     "output_type": "error",
     "traceback": [
      "\u001b[1;36m  Cell \u001b[1;32mIn[103], line 1\u001b[1;36m\u001b[0m\n\u001b[1;33m    7thstandard = 'chinnu'\u001b[0m\n\u001b[1;37m    ^\u001b[0m\n\u001b[1;31mSyntaxError\u001b[0m\u001b[1;31m:\u001b[0m invalid decimal literal\n"
     ]
    }
   ],
   "source": [
    "7thstandard = 'chinnu'\n",
    "print(7thstandard)"
   ]
  },
  {
   "cell_type": "code",
   "execution_count": 105,
   "id": "018fb024-af23-434d-a15e-058fb99bd783",
   "metadata": {},
   "outputs": [
    {
     "ename": "SyntaxError",
     "evalue": "invalid syntax. Maybe you meant '==' or ':=' instead of '='? (3287447047.py, line 1)",
     "output_type": "error",
     "traceback": [
      "\u001b[1;36m  Cell \u001b[1;32mIn[105], line 1\u001b[1;36m\u001b[0m\n\u001b[1;33m    @fighter = 'raju'\u001b[0m\n\u001b[1;37m     ^\u001b[0m\n\u001b[1;31mSyntaxError\u001b[0m\u001b[1;31m:\u001b[0m invalid syntax. Maybe you meant '==' or ':=' instead of '='?\n"
     ]
    }
   ],
   "source": [
    "@fighter = 'raju'\n",
    "print(@fighter)"
   ]
  },
  {
   "cell_type": "code",
   "execution_count": 107,
   "id": "e3c3823b-175f-4364-a503-7800f6c60a68",
   "metadata": {},
   "outputs": [
    {
     "ename": "SyntaxError",
     "evalue": "cannot assign to expression here. Maybe you meant '==' instead of '='? (206852667.py, line 1)",
     "output_type": "error",
     "traceback": [
      "\u001b[1;36m  Cell \u001b[1;32mIn[107], line 1\u001b[1;36m\u001b[0m\n\u001b[1;33m    2^2 ='4'\u001b[0m\n\u001b[1;37m    ^\u001b[0m\n\u001b[1;31mSyntaxError\u001b[0m\u001b[1;31m:\u001b[0m cannot assign to expression here. Maybe you meant '==' instead of '='?\n"
     ]
    }
   ],
   "source": [
    "2^2 ='4'\n",
    "print(2^2)"
   ]
  },
  {
   "cell_type": "code",
   "execution_count": 109,
   "id": "75d2ac06-90f4-4c32-a75a-25261b7e71f2",
   "metadata": {},
   "outputs": [
    {
     "ename": "SyntaxError",
     "evalue": "invalid syntax (2512534183.py, line 1)",
     "output_type": "error",
     "traceback": [
      "\u001b[1;36m  Cell \u001b[1;32mIn[109], line 1\u001b[1;36m\u001b[0m\n\u001b[1;33m    1$dollar = '75 rupee'\u001b[0m\n\u001b[1;37m     ^\u001b[0m\n\u001b[1;31mSyntaxError\u001b[0m\u001b[1;31m:\u001b[0m invalid syntax\n"
     ]
    }
   ],
   "source": [
    "1$dollar = '75 rupee'\n",
    "print(1$dollar)"
   ]
  },
  {
   "cell_type": "code",
   "execution_count": 144,
   "id": "d3054b27-d3d8-489c-aa1b-8e200f5f87a7",
   "metadata": {},
   "outputs": [
    {
     "name": "stdout",
     "output_type": "stream",
     "text": [
      "Name : Vamsi\n",
      "Phone : 8978702237\n"
     ]
    }
   ],
   "source": [
    "credits = 'Name : Vamsi'\n",
    "print(credits)\n",
    "phone = 'Phone : 8978702237'\n",
    "print(phone)"
   ]
  }
 ],
 "metadata": {
  "kernelspec": {
   "display_name": "Python 3 (ipykernel)",
   "language": "python",
   "name": "python3"
  },
  "language_info": {
   "codemirror_mode": {
    "name": "ipython",
    "version": 3
   },
   "file_extension": ".py",
   "mimetype": "text/x-python",
   "name": "python",
   "nbconvert_exporter": "python",
   "pygments_lexer": "ipython3",
   "version": "3.12.4"
  }
 },
 "nbformat": 4,
 "nbformat_minor": 5
}
